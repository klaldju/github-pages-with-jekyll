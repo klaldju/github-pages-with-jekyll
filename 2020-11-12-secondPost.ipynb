{
 "metadata": {
  "language_info": {
   "codemirror_mode": {
    "name": "ipython",
    "version": 3
   },
   "file_extension": ".py",
   "mimetype": "text/x-python",
   "name": "python",
   "nbconvert_exporter": "python",
   "pygments_lexer": "ipython3",
   "version": "3.8.3-final"
  },
  "orig_nbformat": 2,
  "kernelspec": {
   "name": "python3",
   "display_name": "Python 3"
  }
 },
 "nbformat": 4,
 "nbformat_minor": 2,
 "cells": [
  {
   "source": [
    "# Quantum Gates"
   ],
   "cell_type": "markdown",
   "metadata": {}
  },
  {
   "source": [
    "Quantum gates are like the lies we tell our parents: they are models of reality that we use to solve a problem. These gates are unit operations used to alter the characteristics of what is being processed. Although in many cases we are not certain of the mechanisms taking place in the quantum realm, we are still able to measure and predict the outcomes, so these gates are placed to allow us manipulate the quantum phenomena and make the outcome useful."
   ],
   "cell_type": "markdown",
   "metadata": {}
  },
  {
   "source": [
    "The Hadamah Gate uses concepts of mathematical matrixes to entangle quantum particles. "
   ],
   "cell_type": "markdown",
   "metadata": {}
  },
  {
   "cell_type": "code",
   "execution_count": null,
   "metadata": {},
   "outputs": [],
   "source": []
  }
 ]
}